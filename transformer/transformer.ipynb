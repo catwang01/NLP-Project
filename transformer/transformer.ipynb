{
 "cells": [
  {
   "cell_type": "code",
   "execution_count": 7,
   "metadata": {
    "ExecuteTime": {
     "end_time": "2020-09-29T14:15:11.184121Z",
     "start_time": "2020-09-29T14:15:11.168221Z"
    }
   },
   "outputs": [
    {
     "data": {
      "text/plain": [
       "(tensor([[[ 2.3727e-01,  1.7001e-01,  1.6563e+00,  ..., -1.0552e+00,\n",
       "           -1.3600e+00,  2.7937e-01],\n",
       "          [ 2.6515e+00, -3.7611e+00, -3.5257e+00,  ..., -5.3747e-01,\n",
       "           -8.4978e-01, -8.3924e-01],\n",
       "          [ 2.6520e+00, -3.7618e+00, -3.5263e+00,  ..., -5.3754e-01,\n",
       "           -8.4986e-01, -8.3941e-01],\n",
       "          ...,\n",
       "          [ 2.0201e+00, -6.8209e-01,  1.1847e+00,  ..., -4.0825e-01,\n",
       "            1.9488e+00, -1.2257e+00],\n",
       "          [ 2.0196e+00, -6.8189e-01,  1.1844e+00,  ..., -4.0816e-01,\n",
       "            1.9483e+00, -1.2254e+00],\n",
       "          [ 2.0202e+00, -6.8213e-01,  1.1848e+00,  ..., -4.0828e-01,\n",
       "            1.9489e+00, -1.2258e+00]],\n",
       " \n",
       "         [[-8.1388e-01,  1.4988e+00, -1.9217e+00,  ..., -1.7247e+00,\n",
       "            1.2137e+00, -2.8184e+00],\n",
       "          [ 1.8304e+00, -3.6473e-01,  2.7888e-01,  ..., -6.2142e-01,\n",
       "           -1.2770e+00,  1.4380e-01],\n",
       "          [ 6.6593e-01, -6.2210e-01,  7.4823e-01,  ..., -8.1016e-01,\n",
       "           -1.5139e+00, -2.9042e-01],\n",
       "          ...,\n",
       "          [ 3.1907e-01,  3.6739e-01, -1.2170e+00,  ...,  1.5336e+00,\n",
       "            1.6204e+00, -6.0283e-01],\n",
       "          [ 6.3544e-09, -8.6284e-09, -5.4335e-09,  ...,  7.9024e-09,\n",
       "            3.0625e-09,  6.7151e-09],\n",
       "          [ 8.0916e-20, -1.9290e-19,  2.5486e-20,  ...,  3.6196e-21,\n",
       "           -1.0041e-19,  1.8636e-19]]]),\n",
       " tensor([[[0.0000e+00, 0.0000e+00, 1.8171e-11, 5.3091e-03, 1.9943e+00,\n",
       "           5.1885e-14, 0.0000e+00, 0.0000e+00, 9.4694e-11, 0.0000e+00],\n",
       "          [0.0000e+00, 0.0000e+00, 1.9993e+00, 2.2991e-15, 4.1412e-25,\n",
       "           3.0273e-15, 0.0000e+00, 0.0000e+00, 2.6876e-26, 6.2655e-17],\n",
       "          [0.0000e+00, 3.0923e-08, 1.9997e+00, 0.0000e+00, 0.0000e+00,\n",
       "           0.0000e+00, 4.0365e-05, 0.0000e+00, 1.6211e-18, 0.0000e+00],\n",
       "          [1.6471e-17, 0.0000e+00, 0.0000e+00, 2.5739e-02, 1.9714e+00,\n",
       "           0.0000e+00, 2.8021e-19, 0.0000e+00, 6.8346e-15, 0.0000e+00],\n",
       "          [0.0000e+00, 0.0000e+00, 4.8509e-09, 1.4143e-21, 1.9085e-19,\n",
       "           5.5774e-20, 0.0000e+00, 1.7714e-20, 0.0000e+00, 6.3904e-16],\n",
       "          [0.0000e+00, 1.3488e-19, 0.0000e+00, 0.0000e+00, 0.0000e+00,\n",
       "           2.9596e-26, 0.0000e+00, 0.0000e+00, 0.0000e+00, 0.0000e+00],\n",
       "          [9.3985e-30, 1.2214e-37, 1.2232e-23, 0.0000e+00, 0.0000e+00,\n",
       "           6.0814e-32, 6.4435e-19, 0.0000e+00, 0.0000e+00, 0.0000e+00],\n",
       "          [0.0000e+00, 0.0000e+00, 0.0000e+00, 1.9999e+00, 0.0000e+00,\n",
       "           4.4621e-24, 0.0000e+00, 0.0000e+00, 0.0000e+00, 0.0000e+00],\n",
       "          [3.1703e-20, 1.6835e-27, 0.0000e+00, 1.9993e+00, 0.0000e+00,\n",
       "           0.0000e+00, 0.0000e+00, 1.2098e-05, 0.0000e+00, 2.8286e-17],\n",
       "          [5.8190e-37, 8.1270e-12, 6.8338e-32, 2.0000e+00, 0.0000e+00,\n",
       "           0.0000e+00, 2.0470e-36, 1.4621e-20, 2.6441e-22, 0.0000e+00]],\n",
       " \n",
       "         [[1.9720e-13, 1.9564e-29, 2.2004e-27, 2.0000e+00, 0.0000e+00,\n",
       "           9.4072e-28, 4.0866e-21, 3.1330e-19, 9.8012e-41, 6.1917e-10],\n",
       "          [0.0000e+00, 0.0000e+00, 2.0000e+00, 1.4907e-20, 2.9947e-16,\n",
       "           0.0000e+00, 0.0000e+00, 0.0000e+00, 0.0000e+00, 1.0399e-12],\n",
       "          [0.0000e+00, 1.9992e+00, 1.1139e-04, 0.0000e+00, 0.0000e+00,\n",
       "           0.0000e+00, 3.6652e-05, 4.7567e-10, 4.1284e-13, 2.2392e-10],\n",
       "          [0.0000e+00, 1.2393e-28, 0.0000e+00, 0.0000e+00, 3.6355e-09,\n",
       "           0.0000e+00, 0.0000e+00, 3.6950e-36, 6.4969e-16, 0.0000e+00],\n",
       "          [0.0000e+00, 0.0000e+00, 9.6302e-31, 0.0000e+00, 1.7491e-05,\n",
       "           0.0000e+00, 0.0000e+00, 2.1028e-14, 0.0000e+00, 5.0787e-22],\n",
       "          [3.2232e-27, 9.8133e-10, 0.0000e+00, 0.0000e+00, 7.6872e-12,\n",
       "           0.0000e+00, 4.6743e-25, 0.0000e+00, 3.1276e-01, 0.0000e+00],\n",
       "          [0.0000e+00, 1.9915e+00, 2.4767e-15, 2.8241e-25, 0.0000e+00,\n",
       "           0.0000e+00, 0.0000e+00, 0.0000e+00, 1.1574e-03, 1.9093e-10],\n",
       "          [1.9170e-03, 6.3959e-06, 0.0000e+00, 1.0561e-23, 9.2298e-02,\n",
       "           0.0000e+00, 1.9048e+00, 4.9612e-18, 0.0000e+00, 0.0000e+00],\n",
       "          [1.7831e-26, 0.0000e+00, 0.0000e+00, 0.0000e+00, 0.0000e+00,\n",
       "           1.0754e-08, 9.9094e-09, 0.0000e+00, 0.0000e+00, 2.8172e-19],\n",
       "          [0.0000e+00, 1.8681e-31, 0.0000e+00, 0.0000e+00, 0.0000e+00,\n",
       "           1.8625e-19, 6.8819e-27, 0.0000e+00, 2.3386e-32, 0.0000e+00]]]))"
      ]
     },
     "execution_count": 7,
     "metadata": {},
     "output_type": "execute_result"
    }
   ],
   "source": [
    "import torch\n",
    "import torch.nn.functional as F\n",
    "import torch.nn as nn\n",
    "\n",
    "class ScaledDotProductAttention(torch.nn.Module):\n",
    "    def __init__(self, dropout_rate=0.0):\n",
    "        super(ScaledDotProductAttention, self).__init__()\n",
    "        self.dropout = nn.Dropout(dropout_rate)\n",
    "        \n",
    "    def forward(self, q, k, v, attn_mask=None):\n",
    "        attention = torch.bmm(q, k.transpose(1, 2))\n",
    "        if attn_mask:\n",
    "            attention = attention.masked_fill_(attn_mask, -np.inf)\n",
    "        attention = F.softmax(attention, dim=2)\n",
    "        attention = self.dropout(attention)\n",
    "        context = torch.bmm(attention, v)\n",
    "        return context, attention\n",
    "\n",
    "q = torch.randn(2, 10, 512)\n",
    "k = torch.randn(2, 10, 512)\n",
    "v = torch.randn(2, 10, 512)\n",
    "dot_product = ScaledDotProductAttention(0.5)\n",
    "dot_product(q, k, v)"
   ]
  },
  {
   "cell_type": "code",
   "execution_count": 41,
   "metadata": {
    "ExecuteTime": {
     "end_time": "2020-09-29T14:30:40.611682Z",
     "start_time": "2020-09-29T14:30:40.594437Z"
    }
   },
   "outputs": [
    {
     "ename": "ModuleNotFoundError",
     "evalue": "No module named 'ipbd'",
     "output_type": "error",
     "traceback": [
      "\u001b[0;31m---------------------------------------------------------------------------\u001b[0m",
      "\u001b[0;31mModuleNotFoundError\u001b[0m                       Traceback (most recent call last)",
      "\u001b[0;32m<ipython-input-41-8fdc7fdef51f>\u001b[0m in \u001b[0;36m<module>\u001b[0;34m\u001b[0m\n\u001b[0;32m----> 1\u001b[0;31m \u001b[0;32mimport\u001b[0m \u001b[0mipbd\u001b[0m\u001b[0;34m\u001b[0m\u001b[0;34m\u001b[0m\u001b[0m\n\u001b[0m\u001b[1;32m      2\u001b[0m \u001b[0;32mclass\u001b[0m \u001b[0mMultiHeadAttention\u001b[0m\u001b[0;34m(\u001b[0m\u001b[0mtorch\u001b[0m\u001b[0;34m.\u001b[0m\u001b[0mnn\u001b[0m\u001b[0;34m.\u001b[0m\u001b[0mModule\u001b[0m\u001b[0;34m)\u001b[0m\u001b[0;34m:\u001b[0m\u001b[0;34m\u001b[0m\u001b[0;34m\u001b[0m\u001b[0m\n\u001b[1;32m      3\u001b[0m \u001b[0;34m\u001b[0m\u001b[0m\n\u001b[1;32m      4\u001b[0m     \u001b[0;32mdef\u001b[0m \u001b[0m__init__\u001b[0m\u001b[0;34m(\u001b[0m\u001b[0mself\u001b[0m\u001b[0;34m,\u001b[0m \u001b[0md_model\u001b[0m\u001b[0;34m,\u001b[0m \u001b[0mn_heads\u001b[0m\u001b[0;34m,\u001b[0m \u001b[0mdropout_rate\u001b[0m\u001b[0;34m=\u001b[0m\u001b[0;36m0.0\u001b[0m\u001b[0;34m)\u001b[0m\u001b[0;34m:\u001b[0m\u001b[0;34m\u001b[0m\u001b[0;34m\u001b[0m\u001b[0m\n\u001b[1;32m      5\u001b[0m         \u001b[0msuper\u001b[0m\u001b[0;34m(\u001b[0m\u001b[0mMultiHeadAttention\u001b[0m\u001b[0;34m,\u001b[0m \u001b[0mself\u001b[0m\u001b[0;34m)\u001b[0m\u001b[0;34m.\u001b[0m\u001b[0m__init__\u001b[0m\u001b[0;34m(\u001b[0m\u001b[0;34m)\u001b[0m\u001b[0;34m\u001b[0m\u001b[0;34m\u001b[0m\u001b[0m\n",
      "\u001b[0;31mModuleNotFoundError\u001b[0m: No module named 'ipbd'"
     ]
    }
   ],
   "source": [
    "\n",
    "\n",
    "class MultiHeadAttention(torch.nn.Module):\n",
    "    \n",
    "    def __init__(self, d_model, n_heads, dropout_rate=0.0):\n",
    "        super(MultiHeadAttention, self).__init__()\n",
    "        self.dk = d_model // n_heads\n",
    "        self.dropout = nn.Dropout(dropout_rate)\n",
    "        self.linear_q = nn.Linear(d_model, self.dk)\n",
    "        self.linear_k = nn.Linear(d_model, self.dk)\n",
    "        self.linear_v = nn.Linear(d_model, self.dk)\n",
    "        self.scaled_dot_product_attention = ScaledDotProductAttention(dropout_rate)     \n",
    "        self.linear_final = nn.Linear(self.dk * n_heads, self.dk * n_heads)\n",
    "    \n",
    "    def forward(self, Q, K, V):\n",
    "        Qs = Q.split(self.dk, dim=2)\n",
    "        Ks = K.split(self.dk, dim=2)\n",
    "        Vs = V.split(self.dk, dim=2)\n",
    "        ipdb.set_trace()\n",
    "        heads = []\n",
    "        for q, k, v in zip(Qs, Ks, Vs):\n",
    "            heads.append(self.scaled_dot_product_attention(q, k, v)[1])\n",
    "        z = torch.cat(heads, dim=-1)\n",
    "        \n",
    "        output = self.linear_final(z)\n",
    "        return heads\n",
    "        \n",
    "multihead = MultiHeadAttention(512, 8)\n",
    "\n",
    "q = torch.randn(2, 10, 512)\n",
    "k = torch.randn(2, 10, 512)\n",
    "v = torch.randn(2, 10, 512)\n",
    "x = multihead(q, k, v)"
   ]
  },
  {
   "cell_type": "code",
   "execution_count": 33,
   "metadata": {
    "ExecuteTime": {
     "end_time": "2020-09-29T14:20:10.597181Z",
     "start_time": "2020-09-29T14:20:10.589360Z"
    }
   },
   "outputs": [
    {
     "data": {
      "text/plain": [
       "tensor([[[1.1064e-10, 9.4015e-01, 9.0640e-12,  ..., 2.0927e-11,\n",
       "          1.5080e-06, 4.7086e-07],\n",
       "         [2.8416e-06, 5.6764e-10, 1.2079e-04,  ..., 8.9626e-03,\n",
       "          1.5545e-04, 4.6506e-04],\n",
       "         [6.9571e-01, 8.1735e-08, 1.8181e-03,  ..., 4.4118e-01,\n",
       "          6.5938e-13, 1.4021e-16],\n",
       "         ...,\n",
       "         [1.5407e-03, 3.0334e-03, 5.5015e-01,  ..., 1.0975e-07,\n",
       "          9.8197e-03, 4.2089e-04],\n",
       "         [2.0353e-04, 1.6767e-04, 8.1614e-04,  ..., 5.8121e-09,\n",
       "          2.5852e-04, 2.3458e-09],\n",
       "         [4.7344e-06, 9.4880e-01, 1.7122e-09,  ..., 7.0488e-06,\n",
       "          4.8286e-01, 1.1340e-05]],\n",
       "\n",
       "        [[1.3956e-05, 6.2270e-03, 1.9188e-02,  ..., 4.9245e-01,\n",
       "          7.1388e-07, 2.7141e-01],\n",
       "         [2.5753e-13, 1.7032e-12, 3.5965e-16,  ..., 1.0277e-06,\n",
       "          4.8744e-06, 4.2767e-10],\n",
       "         [1.6295e-07, 5.0871e-14, 9.9985e-01,  ..., 1.7914e-08,\n",
       "          3.0615e-11, 1.8504e-07],\n",
       "         ...,\n",
       "         [9.6641e-06, 2.7135e-05, 1.4340e-03,  ..., 2.8831e-13,\n",
       "          5.6144e-12, 9.5731e-15],\n",
       "         [2.3651e-10, 2.5152e-08, 7.0665e-08,  ..., 7.6330e-08,\n",
       "          4.5651e-05, 6.6406e-06],\n",
       "         [3.7052e-07, 2.6417e-13, 9.6058e-08,  ..., 9.5674e-01,\n",
       "          8.7382e-07, 2.3530e-05]]])"
      ]
     },
     "execution_count": 33,
     "metadata": {},
     "output_type": "execute_result"
    }
   ],
   "source": [
    "torch.cat(x, dim=-1)"
   ]
  },
  {
   "cell_type": "code",
   "execution_count": 26,
   "metadata": {
    "ExecuteTime": {
     "end_time": "2020-09-29T14:18:31.301926Z",
     "start_time": "2020-09-29T14:18:31.297747Z"
    }
   },
   "outputs": [
    {
     "data": {
      "text/plain": [
       "torch.Size([2, 10, 10])"
      ]
     },
     "execution_count": 26,
     "metadata": {},
     "output_type": "execute_result"
    }
   ],
   "source": [
    "x[0].shape"
   ]
  }
 ],
 "metadata": {
  "hide_input": false,
  "kernelspec": {
   "display_name": "Python 3",
   "language": "python",
   "name": "python3"
  },
  "language_info": {
   "codemirror_mode": {
    "name": "ipython",
    "version": 3
   },
   "file_extension": ".py",
   "mimetype": "text/x-python",
   "name": "python",
   "nbconvert_exporter": "python",
   "pygments_lexer": "ipython3",
   "version": "3.7.3"
  },
  "toc": {
   "base_numbering": 1,
   "nav_menu": {},
   "number_sections": true,
   "sideBar": true,
   "skip_h1_title": false,
   "title_cell": "Table of Contents",
   "title_sidebar": "Contents",
   "toc_cell": false,
   "toc_position": {},
   "toc_section_display": true,
   "toc_window_display": false
  },
  "varInspector": {
   "cols": {
    "lenName": 16,
    "lenType": 16,
    "lenVar": 40
   },
   "kernels_config": {
    "python": {
     "delete_cmd_postfix": "",
     "delete_cmd_prefix": "del ",
     "library": "var_list.py",
     "varRefreshCmd": "print(var_dic_list())"
    },
    "r": {
     "delete_cmd_postfix": ") ",
     "delete_cmd_prefix": "rm(",
     "library": "var_list.r",
     "varRefreshCmd": "cat(var_dic_list()) "
    }
   },
   "types_to_exclude": [
    "module",
    "function",
    "builtin_function_or_method",
    "instance",
    "_Feature"
   ],
   "window_display": false
  }
 },
 "nbformat": 4,
 "nbformat_minor": 2
}
