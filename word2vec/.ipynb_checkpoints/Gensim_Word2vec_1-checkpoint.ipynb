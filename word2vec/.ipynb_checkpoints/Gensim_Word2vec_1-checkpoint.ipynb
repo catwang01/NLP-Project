{
 "cells": [
  {
   "cell_type": "markdown",
   "metadata": {},
   "source": [
    "[toc]\n",
    "\n",
    "# Gensim Word2Vec 实战 CallbackAny2Vec 的使用"
   ]
  },
  {
   "cell_type": "markdown",
   "metadata": {},
   "source": [
    "## 使用 CallbackAny2Vec 打印 loss"
   ]
  },
  {
   "cell_type": "code",
   "execution_count": 10,
   "metadata": {
    "ExecuteTime": {
     "end_time": "2020-07-26T15:42:56.325755Z",
     "start_time": "2020-07-26T15:42:56.280052Z"
    }
   },
   "outputs": [
    {
     "name": "stdout",
     "output_type": "stream",
     "text": [
      "Loss after epoch 0: 3.5260963439941406\n",
      "Loss after epoch 1: 0.0\n",
      "Loss after epoch 2: 2.8208770751953125\n",
      "Loss after epoch 3: 2.1156578063964844\n",
      "Loss after epoch 4: 4.231315612792969\n",
      "Loss after epoch 5: 0.0\n",
      "Loss after epoch 6: 2.8208770751953125\n",
      "Loss after epoch 7: 2.8208770751953125\n",
      "Loss after epoch 8: 8.462631225585938\n",
      "Loss after epoch 9: 0.0\n"
     ]
    },
    {
     "data": {
      "text/plain": [
       "(8, 80)"
      ]
     },
     "execution_count": 10,
     "metadata": {},
     "output_type": "execute_result"
    }
   ],
   "source": [
    "from gensim.models.word2vec import Word2Vec\n",
    "from gensim.models.callbacks import CallbackAny2Vec\n",
    "raw_sentences = [\"What is your name\", \"My name is edward\"]\n",
    "sentences = [sentence.split() for sentence in raw_sentences]\n",
    "\n",
    "class PrintLossCallback(CallbackAny2Vec):\n",
    "    '''Callback to print loss after each epoch.'''\n",
    "\n",
    "    def __init__(self):\n",
    "        self.epoch = 0\n",
    "        self.loss_to_be_subed = 0\n",
    "\n",
    "    def on_epoch_end(self, model):\n",
    "        loss = model.get_latest_training_loss()\n",
    "        loss_now = loss - self.loss_to_be_subed\n",
    "        self.loss_to_be_subed = loss\n",
    "        print('Loss after epoch {}: {}'.format(self.epoch, loss_now))\n",
    "        self.epoch += 1\n",
    "\n",
    "\n",
    "model = Word2Vec(min_count=1)\n",
    "model.build_vocab(sentences)\n",
    "model.train(sentences, total_examples=len(sentences), epochs=10, compute_loss=True, callbacks=[PrintLossCallback()])"
   ]
  },
  {
   "cell_type": "markdown",
   "metadata": {
    "ExecuteTime": {
     "end_time": "2020-07-26T15:43:55.647141Z",
     "start_time": "2020-07-26T15:43:55.643975Z"
    }
   },
   "source": [
    "## 使用 CallbackAny2Vec 实现 EarlyStop"
   ]
  },
  {
   "cell_type": "code",
   "execution_count": 21,
   "metadata": {
    "ExecuteTime": {
     "end_time": "2020-07-26T15:46:00.723507Z",
     "start_time": "2020-07-26T15:46:00.700900Z"
    }
   },
   "outputs": [
    {
     "name": "stdout",
     "output_type": "stream",
     "text": [
      "Loss after epoch 1: 0.000 time_used: 0.0009s\n",
      "Loss after epoch 2: 2.821 time_used: 0.0018s\n",
      "Loss after epoch 3: 2.116 time_used: 0.0008s\n",
      "Loss after epoch 4: 4.231 time_used: 0.0007s\n",
      "Early Stop at epoch 1\n",
      "Train finished!\n"
     ]
    }
   ],
   "source": [
    "from gensim.models.word2vec import Word2Vec\n",
    "from gensim.models.callbacks import CallbackAny2Vec\n",
    "import time\n",
    "\n",
    "raw_sentences = [\"What is your name\", \"My name is edward\"]\n",
    "sentences = [sentence.split() for sentence in raw_sentences]\n",
    "\n",
    "class OverfitException(Exception):\n",
    "    pass\n",
    "\n",
    "class EarlyStopCallBack(CallbackAny2Vec):\n",
    "\n",
    "    def __init__(self, save_model_name, tolerance=20, delta=0.5):\n",
    "        self.save_model_name = save_model_name\n",
    "        self.delta = delta\n",
    "        self.tolerance = tolerance\n",
    "        self.loss_to_be_subed = None\n",
    "        self.best_loss = None\n",
    "        self.time = None\n",
    "        self.epoch = 0\n",
    "        self.best_loss = None\n",
    "        self.best_epoch = None\n",
    "        self.counter = 0\n",
    "\n",
    "    def on_epoch_end(self, model):\n",
    "        loss_now = model.get_latest_training_loss()\n",
    "        time_now = time.time()\n",
    "        if self.loss_to_be_subed is None:\n",
    "            self.loss_to_be_subed = loss_now\n",
    "            self.time = time_now\n",
    "        else:\n",
    "            loss = loss_now - self.loss_to_be_subed\n",
    "            print('Loss after epoch {}: {:.3f} time_used: {:.4f}s'.format(self.epoch, loss, time_now - self.time))\n",
    "\n",
    "            if self.best_loss is None or self.best_loss - loss > self.delta:\n",
    "                self.best_loss = loss\n",
    "                self.best_epoch = self.epoch\n",
    "                model.save(self.save_model_name)\n",
    "                self.counter = 0\n",
    "            else:\n",
    "                self.counter += 1\n",
    "\n",
    "            if self.counter >= self.tolerance:\n",
    "                print(\"Early Stop at epoch {}\".format(self.best_epoch))\n",
    "                raise OverfitException\n",
    "\n",
    "            self.loss_to_be_subed = loss_now\n",
    "            self.time = time_now\n",
    "        self.epoch += 1\n",
    "\n",
    "model = Word2Vec(min_count=1)\n",
    "model.build_vocab(sentences)\n",
    "try:\n",
    "    model.train(sentences, total_examples=len(sentences), epochs=10, compute_loss=True, callbacks=[EarlyStopCallBack(\"w2v.model\", tolerance=3)])\n",
    "except OverfitException:\n",
    "    print(\"Train finished!\")"
   ]
  },
  {
   "cell_type": "markdown",
   "metadata": {},
   "source": [
    "## 使用 CallBackAny2Vec 实现 shuffle 操作"
   ]
  },
  {
   "cell_type": "markdown",
   "metadata": {},
   "source": [
    "在 item2vec 中，作者提出可以使用 word2vec 的框架，只不过每个 epoch 时进行一次 shuffle 操作。如果是直接使用 gensim 的 word2vec，可以使用 CallBackAny2Vec 来实现 shuffle 操作"
   ]
  },
  {
   "cell_type": "code",
   "execution_count": 33,
   "metadata": {
    "ExecuteTime": {
     "end_time": "2020-07-27T03:01:03.210261Z",
     "start_time": "2020-07-27T03:01:03.186856Z"
    }
   },
   "outputs": [
    {
     "data": {
      "text/plain": [
       "(4, 80)"
      ]
     },
     "execution_count": 33,
     "metadata": {},
     "output_type": "execute_result"
    }
   ],
   "source": [
    "from gensim.models.word2vec import Word2Vec\n",
    "from gensim.models.callbacks import CallbackAny2Vec\n",
    "import random\n",
    "\n",
    "raw_sentences = [\"What is your name\", \"My name is edward\"]\n",
    "sentences = [sentence.split() for sentence in raw_sentences]\n",
    "\n",
    "class ShuffleCallBack(CallbackAny2Vec):\n",
    "    def __init__(self, sentences):\n",
    "        self.sentences = sentences\n",
    "        \n",
    "    def on_epoch_begin(self, model):\n",
    "        for i in range(len(self.sentences)):\n",
    "            random.shuffle(sentences[i]) # 注意shuffle操作应该是inplace的。\n",
    "            \n",
    "model = Word2Vec(min_count=1)\n",
    "model.build_vocab(sentences)\n",
    "model.train(sentences, total_examples=len(sentences), epochs=10, compute_loss=True, callbacks=[ShuffleCallBack(sentences)])"
   ]
  },
  {
   "cell_type": "markdown",
   "metadata": {
    "ExecuteTime": {
     "end_time": "2020-07-26T15:48:27.636376Z",
     "start_time": "2020-07-26T15:48:27.630301Z"
    }
   },
   "source": [
    "# Reference\n",
    "1. [gensim word2vec print log loss - Stack Overflow](https://stackoverflow.com/questions/54888490/gensim-word2vec-print-log-loss?noredirect=1)\n",
    "2. [python - How to break the Word2vec training from a callback function? - Stack Overflow](https://stackoverflow.com/questions/58134062/how-to-break-the-word2vec-training-from-a-callback-function)"
   ]
  }
 ],
 "metadata": {
  "hide_input": false,
  "kernelspec": {
   "display_name": "Python 3.6.10 64-bit ('tensorflow2': conda)",
   "language": "python",
   "name": "python361064bittensorflow2conda916f6dc8789a43e39b82205c8a731f83"
  },
  "language_info": {
   "codemirror_mode": {
    "name": "ipython",
    "version": 3
   },
   "file_extension": ".py",
   "mimetype": "text/x-python",
   "name": "python",
   "nbconvert_exporter": "python",
   "pygments_lexer": "ipython3",
   "version": "3.6.10"
  },
  "toc": {
   "base_numbering": 1,
   "nav_menu": {},
   "number_sections": true,
   "sideBar": true,
   "skip_h1_title": false,
   "title_cell": "Table of Contents",
   "title_sidebar": "Contents",
   "toc_cell": false,
   "toc_position": {},
   "toc_section_display": true,
   "toc_window_display": false
  },
  "varInspector": {
   "cols": {
    "lenName": 16,
    "lenType": 16,
    "lenVar": 40
   },
   "kernels_config": {
    "python": {
     "delete_cmd_postfix": "",
     "delete_cmd_prefix": "del ",
     "library": "var_list.py",
     "varRefreshCmd": "print(var_dic_list())"
    },
    "r": {
     "delete_cmd_postfix": ") ",
     "delete_cmd_prefix": "rm(",
     "library": "var_list.r",
     "varRefreshCmd": "cat(var_dic_list()) "
    }
   },
   "types_to_exclude": [
    "module",
    "function",
    "builtin_function_or_method",
    "instance",
    "_Feature"
   ],
   "window_display": false
  }
 },
 "nbformat": 4,
 "nbformat_minor": 2
}
